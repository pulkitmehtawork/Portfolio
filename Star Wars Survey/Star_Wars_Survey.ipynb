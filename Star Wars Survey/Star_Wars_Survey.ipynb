{
  "nbformat": 4,
  "nbformat_minor": 0,
  "metadata": {
    "colab": {
      "name": "Star Wars Survey.ipynb",
      "provenance": []
    },
    "kernelspec": {
      "name": "python3",
      "display_name": "Python 3"
    }
  },
  "cells": [
    {
      "cell_type": "markdown",
      "metadata": {
        "id": "iAv9MtwX_QXP",
        "colab_type": "text"
      },
      "source": [
        "## Star Wars Survey\n",
        "\n",
        "\n",
        "\n",
        "While waiting for Star Wars: The Force Awakens to come out, the team at FiveThirtyEight became interested in answering some questions about Star Wars fans. In particular, they wondered: does the rest of America realize that “The Empire Strikes Back” is clearly the best of the bunch?\n",
        "\n",
        "The team needed to collect data addressing this question. To do this, they surveyed Star Wars fans using the online tool SurveyMonkey. They received 835 total responses.\n",
        "\n",
        "For this project, we'll be cleaning and exploring the data set in Jupyter notebook."
      ]
    },
    {
      "cell_type": "code",
      "metadata": {
        "id": "kvb1XLn__ZFK",
        "colab_type": "code",
        "colab": {}
      },
      "source": [
        "# Load data \n",
        "import pandas as pd\n",
        "url = 'https://raw.githubusercontent.com/fivethirtyeight/data/master/star-wars-survey/StarWars.csv'\n",
        "star_wars = pd.read_csv(url, encoding=\"ISO-8859-1\")"
      ],
      "execution_count": 0,
      "outputs": []
    },
    {
      "cell_type": "code",
      "metadata": {
        "id": "edToQ3Cb_naX",
        "colab_type": "code",
        "outputId": "e5ccb250-59f4-432b-d97f-029aa3f77c28",
        "colab": {
          "base_uri": "https://localhost:8080/",
          "height": 1000
        }
      },
      "source": [
        "# explore data \n",
        "star_wars.head(10)"
      ],
      "execution_count": 93,
      "outputs": [
        {
          "output_type": "execute_result",
          "data": {
            "text/html": [
              "<div>\n",
              "<style scoped>\n",
              "    .dataframe tbody tr th:only-of-type {\n",
              "        vertical-align: middle;\n",
              "    }\n",
              "\n",
              "    .dataframe tbody tr th {\n",
              "        vertical-align: top;\n",
              "    }\n",
              "\n",
              "    .dataframe thead th {\n",
              "        text-align: right;\n",
              "    }\n",
              "</style>\n",
              "<table border=\"1\" class=\"dataframe\">\n",
              "  <thead>\n",
              "    <tr style=\"text-align: right;\">\n",
              "      <th></th>\n",
              "      <th>RespondentID</th>\n",
              "      <th>Have you seen any of the 6 films in the Star Wars franchise?</th>\n",
              "      <th>Do you consider yourself to be a fan of the Star Wars film franchise?</th>\n",
              "      <th>Which of the following Star Wars films have you seen? Please select all that apply.</th>\n",
              "      <th>Unnamed: 4</th>\n",
              "      <th>Unnamed: 5</th>\n",
              "      <th>Unnamed: 6</th>\n",
              "      <th>Unnamed: 7</th>\n",
              "      <th>Unnamed: 8</th>\n",
              "      <th>Please rank the Star Wars films in order of preference with 1 being your favorite film in the franchise and 6 being your least favorite film.</th>\n",
              "      <th>Unnamed: 10</th>\n",
              "      <th>Unnamed: 11</th>\n",
              "      <th>Unnamed: 12</th>\n",
              "      <th>Unnamed: 13</th>\n",
              "      <th>Unnamed: 14</th>\n",
              "      <th>Please state whether you view the following characters favorably, unfavorably, or are unfamiliar with him/her.</th>\n",
              "      <th>Unnamed: 16</th>\n",
              "      <th>Unnamed: 17</th>\n",
              "      <th>Unnamed: 18</th>\n",
              "      <th>Unnamed: 19</th>\n",
              "      <th>Unnamed: 20</th>\n",
              "      <th>Unnamed: 21</th>\n",
              "      <th>Unnamed: 22</th>\n",
              "      <th>Unnamed: 23</th>\n",
              "      <th>Unnamed: 24</th>\n",
              "      <th>Unnamed: 25</th>\n",
              "      <th>Unnamed: 26</th>\n",
              "      <th>Unnamed: 27</th>\n",
              "      <th>Unnamed: 28</th>\n",
              "      <th>Which character shot first?</th>\n",
              "      <th>Are you familiar with the Expanded Universe?</th>\n",
              "      <th>Do you consider yourself to be a fan of the Expanded Universe?æ</th>\n",
              "      <th>Do you consider yourself to be a fan of the Star Trek franchise?</th>\n",
              "      <th>Gender</th>\n",
              "      <th>Age</th>\n",
              "      <th>Household Income</th>\n",
              "      <th>Education</th>\n",
              "      <th>Location (Census Region)</th>\n",
              "    </tr>\n",
              "  </thead>\n",
              "  <tbody>\n",
              "    <tr>\n",
              "      <th>0</th>\n",
              "      <td>NaN</td>\n",
              "      <td>Response</td>\n",
              "      <td>Response</td>\n",
              "      <td>Star Wars: Episode I  The Phantom Menace</td>\n",
              "      <td>Star Wars: Episode II  Attack of the Clones</td>\n",
              "      <td>Star Wars: Episode III  Revenge of the Sith</td>\n",
              "      <td>Star Wars: Episode IV  A New Hope</td>\n",
              "      <td>Star Wars: Episode V The Empire Strikes Back</td>\n",
              "      <td>Star Wars: Episode VI Return of the Jedi</td>\n",
              "      <td>Star Wars: Episode I  The Phantom Menace</td>\n",
              "      <td>Star Wars: Episode II  Attack of the Clones</td>\n",
              "      <td>Star Wars: Episode III  Revenge of the Sith</td>\n",
              "      <td>Star Wars: Episode IV  A New Hope</td>\n",
              "      <td>Star Wars: Episode V The Empire Strikes Back</td>\n",
              "      <td>Star Wars: Episode VI Return of the Jedi</td>\n",
              "      <td>Han Solo</td>\n",
              "      <td>Luke Skywalker</td>\n",
              "      <td>Princess Leia Organa</td>\n",
              "      <td>Anakin Skywalker</td>\n",
              "      <td>Obi Wan Kenobi</td>\n",
              "      <td>Emperor Palpatine</td>\n",
              "      <td>Darth Vader</td>\n",
              "      <td>Lando Calrissian</td>\n",
              "      <td>Boba Fett</td>\n",
              "      <td>C-3P0</td>\n",
              "      <td>R2 D2</td>\n",
              "      <td>Jar Jar Binks</td>\n",
              "      <td>Padme Amidala</td>\n",
              "      <td>Yoda</td>\n",
              "      <td>Response</td>\n",
              "      <td>Response</td>\n",
              "      <td>Response</td>\n",
              "      <td>Response</td>\n",
              "      <td>Response</td>\n",
              "      <td>Response</td>\n",
              "      <td>Response</td>\n",
              "      <td>Response</td>\n",
              "      <td>Response</td>\n",
              "    </tr>\n",
              "    <tr>\n",
              "      <th>1</th>\n",
              "      <td>3.292880e+09</td>\n",
              "      <td>Yes</td>\n",
              "      <td>Yes</td>\n",
              "      <td>Star Wars: Episode I  The Phantom Menace</td>\n",
              "      <td>Star Wars: Episode II  Attack of the Clones</td>\n",
              "      <td>Star Wars: Episode III  Revenge of the Sith</td>\n",
              "      <td>Star Wars: Episode IV  A New Hope</td>\n",
              "      <td>Star Wars: Episode V The Empire Strikes Back</td>\n",
              "      <td>Star Wars: Episode VI Return of the Jedi</td>\n",
              "      <td>3</td>\n",
              "      <td>2</td>\n",
              "      <td>1</td>\n",
              "      <td>4</td>\n",
              "      <td>5</td>\n",
              "      <td>6</td>\n",
              "      <td>Very favorably</td>\n",
              "      <td>Very favorably</td>\n",
              "      <td>Very favorably</td>\n",
              "      <td>Very favorably</td>\n",
              "      <td>Very favorably</td>\n",
              "      <td>Very favorably</td>\n",
              "      <td>Very favorably</td>\n",
              "      <td>Unfamiliar (N/A)</td>\n",
              "      <td>Unfamiliar (N/A)</td>\n",
              "      <td>Very favorably</td>\n",
              "      <td>Very favorably</td>\n",
              "      <td>Very favorably</td>\n",
              "      <td>Very favorably</td>\n",
              "      <td>Very favorably</td>\n",
              "      <td>I don't understand this question</td>\n",
              "      <td>Yes</td>\n",
              "      <td>No</td>\n",
              "      <td>No</td>\n",
              "      <td>Male</td>\n",
              "      <td>18-29</td>\n",
              "      <td>NaN</td>\n",
              "      <td>High school degree</td>\n",
              "      <td>South Atlantic</td>\n",
              "    </tr>\n",
              "    <tr>\n",
              "      <th>2</th>\n",
              "      <td>3.292880e+09</td>\n",
              "      <td>No</td>\n",
              "      <td>NaN</td>\n",
              "      <td>NaN</td>\n",
              "      <td>NaN</td>\n",
              "      <td>NaN</td>\n",
              "      <td>NaN</td>\n",
              "      <td>NaN</td>\n",
              "      <td>NaN</td>\n",
              "      <td>NaN</td>\n",
              "      <td>NaN</td>\n",
              "      <td>NaN</td>\n",
              "      <td>NaN</td>\n",
              "      <td>NaN</td>\n",
              "      <td>NaN</td>\n",
              "      <td>NaN</td>\n",
              "      <td>NaN</td>\n",
              "      <td>NaN</td>\n",
              "      <td>NaN</td>\n",
              "      <td>NaN</td>\n",
              "      <td>NaN</td>\n",
              "      <td>NaN</td>\n",
              "      <td>NaN</td>\n",
              "      <td>NaN</td>\n",
              "      <td>NaN</td>\n",
              "      <td>NaN</td>\n",
              "      <td>NaN</td>\n",
              "      <td>NaN</td>\n",
              "      <td>NaN</td>\n",
              "      <td>NaN</td>\n",
              "      <td>NaN</td>\n",
              "      <td>NaN</td>\n",
              "      <td>Yes</td>\n",
              "      <td>Male</td>\n",
              "      <td>18-29</td>\n",
              "      <td>$0 - $24,999</td>\n",
              "      <td>Bachelor degree</td>\n",
              "      <td>West South Central</td>\n",
              "    </tr>\n",
              "    <tr>\n",
              "      <th>3</th>\n",
              "      <td>3.292765e+09</td>\n",
              "      <td>Yes</td>\n",
              "      <td>No</td>\n",
              "      <td>Star Wars: Episode I  The Phantom Menace</td>\n",
              "      <td>Star Wars: Episode II  Attack of the Clones</td>\n",
              "      <td>Star Wars: Episode III  Revenge of the Sith</td>\n",
              "      <td>NaN</td>\n",
              "      <td>NaN</td>\n",
              "      <td>NaN</td>\n",
              "      <td>1</td>\n",
              "      <td>2</td>\n",
              "      <td>3</td>\n",
              "      <td>4</td>\n",
              "      <td>5</td>\n",
              "      <td>6</td>\n",
              "      <td>Somewhat favorably</td>\n",
              "      <td>Somewhat favorably</td>\n",
              "      <td>Somewhat favorably</td>\n",
              "      <td>Somewhat favorably</td>\n",
              "      <td>Somewhat favorably</td>\n",
              "      <td>Unfamiliar (N/A)</td>\n",
              "      <td>Unfamiliar (N/A)</td>\n",
              "      <td>Unfamiliar (N/A)</td>\n",
              "      <td>Unfamiliar (N/A)</td>\n",
              "      <td>Unfamiliar (N/A)</td>\n",
              "      <td>Unfamiliar (N/A)</td>\n",
              "      <td>Unfamiliar (N/A)</td>\n",
              "      <td>Unfamiliar (N/A)</td>\n",
              "      <td>Unfamiliar (N/A)</td>\n",
              "      <td>I don't understand this question</td>\n",
              "      <td>No</td>\n",
              "      <td>NaN</td>\n",
              "      <td>No</td>\n",
              "      <td>Male</td>\n",
              "      <td>18-29</td>\n",
              "      <td>$0 - $24,999</td>\n",
              "      <td>High school degree</td>\n",
              "      <td>West North Central</td>\n",
              "    </tr>\n",
              "    <tr>\n",
              "      <th>4</th>\n",
              "      <td>3.292763e+09</td>\n",
              "      <td>Yes</td>\n",
              "      <td>Yes</td>\n",
              "      <td>Star Wars: Episode I  The Phantom Menace</td>\n",
              "      <td>Star Wars: Episode II  Attack of the Clones</td>\n",
              "      <td>Star Wars: Episode III  Revenge of the Sith</td>\n",
              "      <td>Star Wars: Episode IV  A New Hope</td>\n",
              "      <td>Star Wars: Episode V The Empire Strikes Back</td>\n",
              "      <td>Star Wars: Episode VI Return of the Jedi</td>\n",
              "      <td>5</td>\n",
              "      <td>6</td>\n",
              "      <td>1</td>\n",
              "      <td>2</td>\n",
              "      <td>4</td>\n",
              "      <td>3</td>\n",
              "      <td>Very favorably</td>\n",
              "      <td>Very favorably</td>\n",
              "      <td>Very favorably</td>\n",
              "      <td>Very favorably</td>\n",
              "      <td>Very favorably</td>\n",
              "      <td>Somewhat favorably</td>\n",
              "      <td>Very favorably</td>\n",
              "      <td>Somewhat favorably</td>\n",
              "      <td>Somewhat unfavorably</td>\n",
              "      <td>Very favorably</td>\n",
              "      <td>Very favorably</td>\n",
              "      <td>Very favorably</td>\n",
              "      <td>Very favorably</td>\n",
              "      <td>Very favorably</td>\n",
              "      <td>I don't understand this question</td>\n",
              "      <td>No</td>\n",
              "      <td>NaN</td>\n",
              "      <td>Yes</td>\n",
              "      <td>Male</td>\n",
              "      <td>18-29</td>\n",
              "      <td>$100,000 - $149,999</td>\n",
              "      <td>Some college or Associate degree</td>\n",
              "      <td>West North Central</td>\n",
              "    </tr>\n",
              "    <tr>\n",
              "      <th>5</th>\n",
              "      <td>3.292731e+09</td>\n",
              "      <td>Yes</td>\n",
              "      <td>Yes</td>\n",
              "      <td>Star Wars: Episode I  The Phantom Menace</td>\n",
              "      <td>Star Wars: Episode II  Attack of the Clones</td>\n",
              "      <td>Star Wars: Episode III  Revenge of the Sith</td>\n",
              "      <td>Star Wars: Episode IV  A New Hope</td>\n",
              "      <td>Star Wars: Episode V The Empire Strikes Back</td>\n",
              "      <td>Star Wars: Episode VI Return of the Jedi</td>\n",
              "      <td>5</td>\n",
              "      <td>4</td>\n",
              "      <td>6</td>\n",
              "      <td>2</td>\n",
              "      <td>1</td>\n",
              "      <td>3</td>\n",
              "      <td>Very favorably</td>\n",
              "      <td>Somewhat favorably</td>\n",
              "      <td>Somewhat favorably</td>\n",
              "      <td>Somewhat unfavorably</td>\n",
              "      <td>Very favorably</td>\n",
              "      <td>Very unfavorably</td>\n",
              "      <td>Somewhat favorably</td>\n",
              "      <td>Neither favorably nor unfavorably (neutral)</td>\n",
              "      <td>Very favorably</td>\n",
              "      <td>Somewhat favorably</td>\n",
              "      <td>Somewhat favorably</td>\n",
              "      <td>Very unfavorably</td>\n",
              "      <td>Somewhat favorably</td>\n",
              "      <td>Somewhat favorably</td>\n",
              "      <td>Greedo</td>\n",
              "      <td>Yes</td>\n",
              "      <td>No</td>\n",
              "      <td>No</td>\n",
              "      <td>Male</td>\n",
              "      <td>18-29</td>\n",
              "      <td>$100,000 - $149,999</td>\n",
              "      <td>Some college or Associate degree</td>\n",
              "      <td>West North Central</td>\n",
              "    </tr>\n",
              "    <tr>\n",
              "      <th>6</th>\n",
              "      <td>3.292719e+09</td>\n",
              "      <td>Yes</td>\n",
              "      <td>Yes</td>\n",
              "      <td>Star Wars: Episode I  The Phantom Menace</td>\n",
              "      <td>Star Wars: Episode II  Attack of the Clones</td>\n",
              "      <td>Star Wars: Episode III  Revenge of the Sith</td>\n",
              "      <td>Star Wars: Episode IV  A New Hope</td>\n",
              "      <td>Star Wars: Episode V The Empire Strikes Back</td>\n",
              "      <td>Star Wars: Episode VI Return of the Jedi</td>\n",
              "      <td>1</td>\n",
              "      <td>4</td>\n",
              "      <td>3</td>\n",
              "      <td>6</td>\n",
              "      <td>5</td>\n",
              "      <td>2</td>\n",
              "      <td>Very favorably</td>\n",
              "      <td>Very favorably</td>\n",
              "      <td>Very favorably</td>\n",
              "      <td>Very favorably</td>\n",
              "      <td>Very favorably</td>\n",
              "      <td>Neither favorably nor unfavorably (neutral)</td>\n",
              "      <td>Very favorably</td>\n",
              "      <td>Neither favorably nor unfavorably (neutral)</td>\n",
              "      <td>Somewhat favorably</td>\n",
              "      <td>Somewhat favorably</td>\n",
              "      <td>Somewhat favorably</td>\n",
              "      <td>Somewhat favorably</td>\n",
              "      <td>Neither favorably nor unfavorably (neutral)</td>\n",
              "      <td>Very favorably</td>\n",
              "      <td>Han</td>\n",
              "      <td>Yes</td>\n",
              "      <td>No</td>\n",
              "      <td>Yes</td>\n",
              "      <td>Male</td>\n",
              "      <td>18-29</td>\n",
              "      <td>$25,000 - $49,999</td>\n",
              "      <td>Bachelor degree</td>\n",
              "      <td>Middle Atlantic</td>\n",
              "    </tr>\n",
              "    <tr>\n",
              "      <th>7</th>\n",
              "      <td>3.292685e+09</td>\n",
              "      <td>Yes</td>\n",
              "      <td>Yes</td>\n",
              "      <td>Star Wars: Episode I  The Phantom Menace</td>\n",
              "      <td>Star Wars: Episode II  Attack of the Clones</td>\n",
              "      <td>Star Wars: Episode III  Revenge of the Sith</td>\n",
              "      <td>Star Wars: Episode IV  A New Hope</td>\n",
              "      <td>Star Wars: Episode V The Empire Strikes Back</td>\n",
              "      <td>Star Wars: Episode VI Return of the Jedi</td>\n",
              "      <td>6</td>\n",
              "      <td>5</td>\n",
              "      <td>4</td>\n",
              "      <td>3</td>\n",
              "      <td>1</td>\n",
              "      <td>2</td>\n",
              "      <td>Very favorably</td>\n",
              "      <td>Very favorably</td>\n",
              "      <td>Somewhat favorably</td>\n",
              "      <td>Somewhat favorably</td>\n",
              "      <td>Very favorably</td>\n",
              "      <td>Very favorably</td>\n",
              "      <td>Very favorably</td>\n",
              "      <td>Very favorably</td>\n",
              "      <td>Very favorably</td>\n",
              "      <td>Somewhat favorably</td>\n",
              "      <td>Very favorably</td>\n",
              "      <td>Somewhat unfavorably</td>\n",
              "      <td>Somewhat favorably</td>\n",
              "      <td>Very favorably</td>\n",
              "      <td>Han</td>\n",
              "      <td>Yes</td>\n",
              "      <td>No</td>\n",
              "      <td>No</td>\n",
              "      <td>Male</td>\n",
              "      <td>18-29</td>\n",
              "      <td>NaN</td>\n",
              "      <td>High school degree</td>\n",
              "      <td>East North Central</td>\n",
              "    </tr>\n",
              "    <tr>\n",
              "      <th>8</th>\n",
              "      <td>3.292664e+09</td>\n",
              "      <td>Yes</td>\n",
              "      <td>Yes</td>\n",
              "      <td>Star Wars: Episode I  The Phantom Menace</td>\n",
              "      <td>Star Wars: Episode II  Attack of the Clones</td>\n",
              "      <td>Star Wars: Episode III  Revenge of the Sith</td>\n",
              "      <td>Star Wars: Episode IV  A New Hope</td>\n",
              "      <td>Star Wars: Episode V The Empire Strikes Back</td>\n",
              "      <td>Star Wars: Episode VI Return of the Jedi</td>\n",
              "      <td>4</td>\n",
              "      <td>5</td>\n",
              "      <td>6</td>\n",
              "      <td>3</td>\n",
              "      <td>2</td>\n",
              "      <td>1</td>\n",
              "      <td>Very favorably</td>\n",
              "      <td>Somewhat favorably</td>\n",
              "      <td>Very favorably</td>\n",
              "      <td>Neither favorably nor unfavorably (neutral)</td>\n",
              "      <td>Very favorably</td>\n",
              "      <td>Very unfavorably</td>\n",
              "      <td>Somewhat unfavorably</td>\n",
              "      <td>Neither favorably nor unfavorably (neutral)</td>\n",
              "      <td>Somewhat favorably</td>\n",
              "      <td>Somewhat favorably</td>\n",
              "      <td>Somewhat favorably</td>\n",
              "      <td>Very unfavorably</td>\n",
              "      <td>Somewhat unfavorably</td>\n",
              "      <td>Very favorably</td>\n",
              "      <td>Han</td>\n",
              "      <td>No</td>\n",
              "      <td>NaN</td>\n",
              "      <td>Yes</td>\n",
              "      <td>Male</td>\n",
              "      <td>18-29</td>\n",
              "      <td>NaN</td>\n",
              "      <td>High school degree</td>\n",
              "      <td>South Atlantic</td>\n",
              "    </tr>\n",
              "    <tr>\n",
              "      <th>9</th>\n",
              "      <td>3.292654e+09</td>\n",
              "      <td>Yes</td>\n",
              "      <td>Yes</td>\n",
              "      <td>Star Wars: Episode I  The Phantom Menace</td>\n",
              "      <td>Star Wars: Episode II  Attack of the Clones</td>\n",
              "      <td>Star Wars: Episode III  Revenge of the Sith</td>\n",
              "      <td>Star Wars: Episode IV  A New Hope</td>\n",
              "      <td>Star Wars: Episode V The Empire Strikes Back</td>\n",
              "      <td>Star Wars: Episode VI Return of the Jedi</td>\n",
              "      <td>5</td>\n",
              "      <td>4</td>\n",
              "      <td>6</td>\n",
              "      <td>2</td>\n",
              "      <td>1</td>\n",
              "      <td>3</td>\n",
              "      <td>Very favorably</td>\n",
              "      <td>Somewhat unfavorably</td>\n",
              "      <td>Somewhat favorably</td>\n",
              "      <td>Somewhat favorably</td>\n",
              "      <td>Somewhat favorably</td>\n",
              "      <td>Very favorably</td>\n",
              "      <td>Very favorably</td>\n",
              "      <td>Very favorably</td>\n",
              "      <td>Very favorably</td>\n",
              "      <td>Neither favorably nor unfavorably (neutral)</td>\n",
              "      <td>Somewhat favorably</td>\n",
              "      <td>Very unfavorably</td>\n",
              "      <td>Somewhat unfavorably</td>\n",
              "      <td>Somewhat favorably</td>\n",
              "      <td>Han</td>\n",
              "      <td>No</td>\n",
              "      <td>NaN</td>\n",
              "      <td>No</td>\n",
              "      <td>Male</td>\n",
              "      <td>18-29</td>\n",
              "      <td>$0 - $24,999</td>\n",
              "      <td>Some college or Associate degree</td>\n",
              "      <td>South Atlantic</td>\n",
              "    </tr>\n",
              "  </tbody>\n",
              "</table>\n",
              "</div>"
            ],
            "text/plain": [
              "   RespondentID  ... Location (Census Region)\n",
              "0           NaN  ...                 Response\n",
              "1  3.292880e+09  ...           South Atlantic\n",
              "2  3.292880e+09  ...       West South Central\n",
              "3  3.292765e+09  ...       West North Central\n",
              "4  3.292763e+09  ...       West North Central\n",
              "5  3.292731e+09  ...       West North Central\n",
              "6  3.292719e+09  ...          Middle Atlantic\n",
              "7  3.292685e+09  ...       East North Central\n",
              "8  3.292664e+09  ...           South Atlantic\n",
              "9  3.292654e+09  ...           South Atlantic\n",
              "\n",
              "[10 rows x 38 columns]"
            ]
          },
          "metadata": {
            "tags": []
          },
          "execution_count": 93
        }
      ]
    },
    {
      "cell_type": "code",
      "metadata": {
        "id": "CIZ9Z5wpAjKW",
        "colab_type": "code",
        "outputId": "1fc293ca-089a-4eec-8c58-37b93aae5213",
        "colab": {
          "base_uri": "https://localhost:8080/",
          "height": 340
        }
      },
      "source": [
        "star_wars.columns"
      ],
      "execution_count": 94,
      "outputs": [
        {
          "output_type": "execute_result",
          "data": {
            "text/plain": [
              "Index(['RespondentID',\n",
              "       'Have you seen any of the 6 films in the Star Wars franchise?',\n",
              "       'Do you consider yourself to be a fan of the Star Wars film franchise?',\n",
              "       'Which of the following Star Wars films have you seen? Please select all that apply.',\n",
              "       'Unnamed: 4', 'Unnamed: 5', 'Unnamed: 6', 'Unnamed: 7', 'Unnamed: 8',\n",
              "       'Please rank the Star Wars films in order of preference with 1 being your favorite film in the franchise and 6 being your least favorite film.',\n",
              "       'Unnamed: 10', 'Unnamed: 11', 'Unnamed: 12', 'Unnamed: 13',\n",
              "       'Unnamed: 14',\n",
              "       'Please state whether you view the following characters favorably, unfavorably, or are unfamiliar with him/her.',\n",
              "       'Unnamed: 16', 'Unnamed: 17', 'Unnamed: 18', 'Unnamed: 19',\n",
              "       'Unnamed: 20', 'Unnamed: 21', 'Unnamed: 22', 'Unnamed: 23',\n",
              "       'Unnamed: 24', 'Unnamed: 25', 'Unnamed: 26', 'Unnamed: 27',\n",
              "       'Unnamed: 28', 'Which character shot first?',\n",
              "       'Are you familiar with the Expanded Universe?',\n",
              "       'Do you consider yourself to be a fan of the Expanded Universe?æ',\n",
              "       'Do you consider yourself to be a fan of the Star Trek franchise?',\n",
              "       'Gender', 'Age', 'Household Income', 'Education',\n",
              "       'Location (Census Region)'],\n",
              "      dtype='object')"
            ]
          },
          "metadata": {
            "tags": []
          },
          "execution_count": 94
        }
      ]
    },
    {
      "cell_type": "code",
      "metadata": {
        "id": "X0t230h_AoTB",
        "colab_type": "code",
        "colab": {}
      },
      "source": [
        "#Remove any rows where RespondentID is NaN\n",
        "\n",
        "star_wars = star_wars[star_wars['RespondentID'].notnull()]"
      ],
      "execution_count": 0,
      "outputs": []
    },
    {
      "cell_type": "code",
      "metadata": {
        "id": "YIY2H-9EA03n",
        "colab_type": "code",
        "outputId": "51f3e847-b3b9-4def-dd06-c926efa8607d",
        "colab": {
          "base_uri": "https://localhost:8080/",
          "height": 680
        }
      },
      "source": [
        "star_wars.isnull().sum()"
      ],
      "execution_count": 96,
      "outputs": [
        {
          "output_type": "execute_result",
          "data": {
            "text/plain": [
              "RespondentID                                                                                                                                       0\n",
              "Have you seen any of the 6 films in the Star Wars franchise?                                                                                       0\n",
              "Do you consider yourself to be a fan of the Star Wars film franchise?                                                                            350\n",
              "Which of the following Star Wars films have you seen? Please select all that apply.                                                              513\n",
              "Unnamed: 4                                                                                                                                       615\n",
              "Unnamed: 5                                                                                                                                       636\n",
              "Unnamed: 6                                                                                                                                       579\n",
              "Unnamed: 7                                                                                                                                       428\n",
              "Unnamed: 8                                                                                                                                       448\n",
              "Please rank the Star Wars films in order of preference with 1 being your favorite film in the franchise and 6 being your least favorite film.    351\n",
              "Unnamed: 10                                                                                                                                      350\n",
              "Unnamed: 11                                                                                                                                      351\n",
              "Unnamed: 12                                                                                                                                      350\n",
              "Unnamed: 13                                                                                                                                      350\n",
              "Unnamed: 14                                                                                                                                      350\n",
              "Please state whether you view the following characters favorably, unfavorably, or are unfamiliar with him/her.                                   357\n",
              "Unnamed: 16                                                                                                                                      355\n",
              "Unnamed: 17                                                                                                                                      355\n",
              "Unnamed: 18                                                                                                                                      363\n",
              "Unnamed: 19                                                                                                                                      361\n",
              "Unnamed: 20                                                                                                                                      372\n",
              "Unnamed: 21                                                                                                                                      360\n",
              "Unnamed: 22                                                                                                                                      366\n",
              "Unnamed: 23                                                                                                                                      374\n",
              "Unnamed: 24                                                                                                                                      359\n",
              "Unnamed: 25                                                                                                                                      356\n",
              "Unnamed: 26                                                                                                                                      365\n",
              "Unnamed: 27                                                                                                                                      372\n",
              "Unnamed: 28                                                                                                                                      360\n",
              "Which character shot first?                                                                                                                      358\n",
              "Are you familiar with the Expanded Universe?                                                                                                     358\n",
              "Do you consider yourself to be a fan of the Expanded Universe?æ                                                                                 973\n",
              "Do you consider yourself to be a fan of the Star Trek franchise?                                                                                 118\n",
              "Gender                                                                                                                                           140\n",
              "Age                                                                                                                                              140\n",
              "Household Income                                                                                                                                 328\n",
              "Education                                                                                                                                        150\n",
              "Location (Census Region)                                                                                                                         143\n",
              "dtype: int64"
            ]
          },
          "metadata": {
            "tags": []
          },
          "execution_count": 96
        }
      ]
    },
    {
      "cell_type": "markdown",
      "metadata": {
        "id": "a3JHYJm7BuZ9",
        "colab_type": "text"
      },
      "source": [
        "## Cleaning and Mapping Yes/No Columns"
      ]
    },
    {
      "cell_type": "code",
      "metadata": {
        "id": "TUZ561hgCKdH",
        "colab_type": "code",
        "outputId": "edb16b7a-3507-46ac-b47e-f3fbd7a96c0d",
        "colab": {
          "base_uri": "https://localhost:8080/",
          "height": 68
        }
      },
      "source": [
        "star_wars['Have you seen any of the 6 films in the Star Wars franchise?'].value_counts()"
      ],
      "execution_count": 97,
      "outputs": [
        {
          "output_type": "execute_result",
          "data": {
            "text/plain": [
              "Yes    936\n",
              "No     250\n",
              "Name: Have you seen any of the 6 films in the Star Wars franchise?, dtype: int64"
            ]
          },
          "metadata": {
            "tags": []
          },
          "execution_count": 97
        }
      ]
    },
    {
      "cell_type": "code",
      "metadata": {
        "id": "ep96Oh1CCN65",
        "colab_type": "code",
        "outputId": "882aef60-eea5-4e95-909f-16e454e709ca",
        "colab": {
          "base_uri": "https://localhost:8080/",
          "height": 68
        }
      },
      "source": [
        "star_wars['Do you consider yourself to be a fan of the Star Wars film franchise?'].value_counts()"
      ],
      "execution_count": 98,
      "outputs": [
        {
          "output_type": "execute_result",
          "data": {
            "text/plain": [
              "Yes    552\n",
              "No     284\n",
              "Name: Do you consider yourself to be a fan of the Star Wars film franchise?, dtype: int64"
            ]
          },
          "metadata": {
            "tags": []
          },
          "execution_count": 98
        }
      ]
    },
    {
      "cell_type": "code",
      "metadata": {
        "id": "RKBeq_tjA2Yp",
        "colab_type": "code",
        "colab": {}
      },
      "source": [
        "# create a dictionary to contain mapping\n",
        "yes_no = {\"Yes\": True , \"No\": False}"
      ],
      "execution_count": 0,
      "outputs": []
    },
    {
      "cell_type": "code",
      "metadata": {
        "id": "EbbjdUT2B9Ao",
        "colab_type": "code",
        "colab": {}
      },
      "source": [
        "star_wars['Have you seen any of the 6 films in the Star Wars franchise?'] = star_wars['Have you seen any of the 6 films in the Star Wars franchise?'].map(yes_no)"
      ],
      "execution_count": 0,
      "outputs": []
    },
    {
      "cell_type": "code",
      "metadata": {
        "id": "h6aNYsCACHBM",
        "colab_type": "code",
        "colab": {}
      },
      "source": [
        "star_wars['Do you consider yourself to be a fan of the Star Wars film franchise?'] = star_wars['Do you consider yourself to be a fan of the Star Wars film franchise?'].map(yes_no)"
      ],
      "execution_count": 0,
      "outputs": []
    },
    {
      "cell_type": "code",
      "metadata": {
        "id": "5pRJw1BYCdF0",
        "colab_type": "code",
        "outputId": "189cd3d8-4dd5-4fda-9bf9-25a0d696567d",
        "colab": {
          "base_uri": "https://localhost:8080/",
          "height": 68
        }
      },
      "source": [
        "star_wars['Have you seen any of the 6 films in the Star Wars franchise?'].value_counts()"
      ],
      "execution_count": 102,
      "outputs": [
        {
          "output_type": "execute_result",
          "data": {
            "text/plain": [
              "True     936\n",
              "False    250\n",
              "Name: Have you seen any of the 6 films in the Star Wars franchise?, dtype: int64"
            ]
          },
          "metadata": {
            "tags": []
          },
          "execution_count": 102
        }
      ]
    },
    {
      "cell_type": "code",
      "metadata": {
        "id": "EIQ04RveCgih",
        "colab_type": "code",
        "outputId": "969be6cf-fc0e-4396-c85e-87a5a0356cac",
        "colab": {
          "base_uri": "https://localhost:8080/",
          "height": 68
        }
      },
      "source": [
        "star_wars['Do you consider yourself to be a fan of the Star Wars film franchise?'].value_counts()"
      ],
      "execution_count": 103,
      "outputs": [
        {
          "output_type": "execute_result",
          "data": {
            "text/plain": [
              "True     552\n",
              "False    284\n",
              "Name: Do you consider yourself to be a fan of the Star Wars film franchise?, dtype: int64"
            ]
          },
          "metadata": {
            "tags": []
          },
          "execution_count": 103
        }
      ]
    },
    {
      "cell_type": "markdown",
      "metadata": {
        "id": "EST9-JjMBlvF",
        "colab_type": "text"
      },
      "source": [
        "## Cleaning and mapping checkbox columns"
      ]
    },
    {
      "cell_type": "code",
      "metadata": {
        "id": "Sr47IQFQCjAy",
        "colab_type": "code",
        "outputId": "d3eca582-3123-41a9-ef8b-b328b140164b",
        "colab": {
          "base_uri": "https://localhost:8080/",
          "height": 68
        }
      },
      "source": [
        "star_wars.columns[3:9]"
      ],
      "execution_count": 104,
      "outputs": [
        {
          "output_type": "execute_result",
          "data": {
            "text/plain": [
              "Index(['Which of the following Star Wars films have you seen? Please select all that apply.',\n",
              "       'Unnamed: 4', 'Unnamed: 5', 'Unnamed: 6', 'Unnamed: 7', 'Unnamed: 8'],\n",
              "      dtype='object')"
            ]
          },
          "metadata": {
            "tags": []
          },
          "execution_count": 104
        }
      ]
    },
    {
      "cell_type": "code",
      "metadata": {
        "id": "EJYhMgvmCASj",
        "colab_type": "code",
        "colab": {}
      },
      "source": [
        "# rename columns\n",
        "\n",
        "new_col_dict = {'Which of the following Star Wars films have you seen? Please select all that apply.':'seen_1',\n",
        "               'Unnamed: 4':'seen_2',\n",
        "                'Unnamed: 5':'seen_3',\n",
        "                'Unnamed: 6':'seen_4',\n",
        "                'Unnamed: 7':'seen_5',\n",
        "                'Unnamed: 8':'seen_6'\n",
        "                }"
      ],
      "execution_count": 0,
      "outputs": []
    },
    {
      "cell_type": "code",
      "metadata": {
        "id": "C3RWxt3RDISP",
        "colab_type": "code",
        "colab": {}
      },
      "source": [
        "star_wars = star_wars.rename(new_col_dict,axis=1)"
      ],
      "execution_count": 0,
      "outputs": []
    },
    {
      "cell_type": "code",
      "metadata": {
        "id": "yyZ8VbGZDQyS",
        "colab_type": "code",
        "outputId": "1ace8cc3-6f77-4580-a629-1c5f4a119315",
        "colab": {
          "base_uri": "https://localhost:8080/",
          "height": 34
        }
      },
      "source": [
        "star_wars.columns[3:9]"
      ],
      "execution_count": 107,
      "outputs": [
        {
          "output_type": "execute_result",
          "data": {
            "text/plain": [
              "Index(['seen_1', 'seen_2', 'seen_3', 'seen_4', 'seen_5', 'seen_6'], dtype='object')"
            ]
          },
          "metadata": {
            "tags": []
          },
          "execution_count": 107
        }
      ]
    },
    {
      "cell_type": "code",
      "metadata": {
        "id": "wtXklzNtDSLr",
        "colab_type": "code",
        "colab": {}
      },
      "source": [
        "import numpy as np\n",
        "\n",
        "\n",
        "mapping_dict = {\n",
        "    \"Star Wars: Episode I  The Phantom Menace\": True,\n",
        "    np.nan: False,\n",
        "    \"Star Wars: Episode II  Attack of the Clones\": True,\n",
        "    \"Star Wars: Episode III  Revenge of the Sith\": True,\n",
        "    \"Star Wars: Episode IV  A New Hope\": True,\n",
        "    \"Star Wars: Episode V The Empire Strikes Back\": True,\n",
        "    \"Star Wars: Episode VI Return of the Jedi\": True\n",
        "}"
      ],
      "execution_count": 0,
      "outputs": []
    },
    {
      "cell_type": "code",
      "metadata": {
        "id": "ecsKlbCrEoko",
        "colab_type": "code",
        "colab": {}
      },
      "source": [
        "for i in range(3,9):\n",
        "  star_wars[star_wars.columns[i]] = star_wars[star_wars.columns[i]].map(mapping_dict)\n"
      ],
      "execution_count": 0,
      "outputs": []
    },
    {
      "cell_type": "code",
      "metadata": {
        "id": "hWMrPNbOEi0O",
        "colab_type": "code",
        "outputId": "a5fff91d-7b24-4dba-ddd3-f21b01558fa6",
        "colab": {
          "base_uri": "https://localhost:8080/",
          "height": 68
        }
      },
      "source": [
        "star_wars[star_wars.columns[5]].value_counts()"
      ],
      "execution_count": 110,
      "outputs": [
        {
          "output_type": "execute_result",
          "data": {
            "text/plain": [
              "False    636\n",
              "True     550\n",
              "Name: seen_3, dtype: int64"
            ]
          },
          "metadata": {
            "tags": []
          },
          "execution_count": 110
        }
      ]
    },
    {
      "cell_type": "markdown",
      "metadata": {
        "id": "vwowxAxsKz1R",
        "colab_type": "text"
      },
      "source": [
        "## Cleaning Ranking columns"
      ]
    },
    {
      "cell_type": "code",
      "metadata": {
        "id": "2-ZNTpg_Eluy",
        "colab_type": "code",
        "colab": {}
      },
      "source": [
        "# convert all ranking columns to float\n",
        "\n",
        "star_wars[star_wars.columns[9:15]] = star_wars[star_wars.columns[9:15]].astype(float)"
      ],
      "execution_count": 0,
      "outputs": []
    },
    {
      "cell_type": "code",
      "metadata": {
        "id": "c4VoUpotK_FO",
        "colab_type": "code",
        "outputId": "273a4b1b-d019-402c-8096-9f0686eac442",
        "colab": {
          "base_uri": "https://localhost:8080/",
          "height": 85
        }
      },
      "source": [
        "# mapping column names for ranking columns\n",
        "star_wars.columns[9:15]"
      ],
      "execution_count": 112,
      "outputs": [
        {
          "output_type": "execute_result",
          "data": {
            "text/plain": [
              "Index(['Please rank the Star Wars films in order of preference with 1 being your favorite film in the franchise and 6 being your least favorite film.',\n",
              "       'Unnamed: 10', 'Unnamed: 11', 'Unnamed: 12', 'Unnamed: 13',\n",
              "       'Unnamed: 14'],\n",
              "      dtype='object')"
            ]
          },
          "metadata": {
            "tags": []
          },
          "execution_count": 112
        }
      ]
    },
    {
      "cell_type": "code",
      "metadata": {
        "id": "xyKLSqbhL1bT",
        "colab_type": "code",
        "colab": {}
      },
      "source": [
        "rank_dict = {'Please rank the Star Wars films in order of preference with 1 being your favorite film in the franchise and 6 being your least favorite film.':'ranking_1',\n",
        "            'Unnamed: 10':'ranking_2',\n",
        "             'Unnamed: 11':'ranking_3',\n",
        "             'Unnamed: 12':'ranking_4',\n",
        "             'Unnamed: 13':'ranking_5',\n",
        "             'Unnamed: 14':'ranking_6',\n",
        "            np.NaN: False\n",
        "             }"
      ],
      "execution_count": 0,
      "outputs": []
    },
    {
      "cell_type": "code",
      "metadata": {
        "id": "hhoGY3VWMKJa",
        "colab_type": "code",
        "colab": {}
      },
      "source": [
        "star_wars  = star_wars.rename(rank_dict,axis=1)\n"
      ],
      "execution_count": 0,
      "outputs": []
    },
    {
      "cell_type": "code",
      "metadata": {
        "id": "aKb-RyB7Mavr",
        "colab_type": "code",
        "outputId": "61275a99-5964-4b9a-b706-fa0881d36ae8",
        "colab": {
          "base_uri": "https://localhost:8080/",
          "height": 68
        }
      },
      "source": [
        "# after name changes\n",
        "star_wars.columns[9:15]"
      ],
      "execution_count": 115,
      "outputs": [
        {
          "output_type": "execute_result",
          "data": {
            "text/plain": [
              "Index(['ranking_1', 'ranking_2', 'ranking_3', 'ranking_4', 'ranking_5',\n",
              "       'ranking_6'],\n",
              "      dtype='object')"
            ]
          },
          "metadata": {
            "tags": []
          },
          "execution_count": 115
        }
      ]
    },
    {
      "cell_type": "markdown",
      "metadata": {
        "id": "zfT_9euBKuuC",
        "colab_type": "text"
      },
      "source": [
        "## Finding Highest Ranked Movie"
      ]
    },
    {
      "cell_type": "code",
      "metadata": {
        "id": "OG__MnmeMzqm",
        "colab_type": "code",
        "colab": {}
      },
      "source": [
        "# Get mean of all rank columns\n",
        "\n",
        "mean_ranks = star_wars[star_wars.columns[9:15]].mean()"
      ],
      "execution_count": 0,
      "outputs": []
    },
    {
      "cell_type": "code",
      "metadata": {
        "id": "w3gMUjvJK6BF",
        "colab_type": "code",
        "colab": {
          "base_uri": "https://localhost:8080/",
          "height": 136
        },
        "outputId": "f5edb08d-9ada-42d0-9d41-f6419d995a58"
      },
      "source": [
        "mean_ranks"
      ],
      "execution_count": 117,
      "outputs": [
        {
          "output_type": "execute_result",
          "data": {
            "text/plain": [
              "ranking_1    3.732934\n",
              "ranking_2    4.087321\n",
              "ranking_3    4.341317\n",
              "ranking_4    3.272727\n",
              "ranking_5    2.513158\n",
              "ranking_6    3.047847\n",
              "dtype: float64"
            ]
          },
          "metadata": {
            "tags": []
          },
          "execution_count": 117
        }
      ]
    },
    {
      "cell_type": "code",
      "metadata": {
        "id": "uIqHC1MoK7uj",
        "colab_type": "code",
        "colab": {
          "base_uri": "https://localhost:8080/",
          "height": 282
        },
        "outputId": "7817f9b3-0fe6-43e4-f49a-121d25d59052"
      },
      "source": [
        "# lets create bar chart of rankings\n",
        "import matplotlib.pyplot as plt\n",
        "%matplotlib inline\n",
        "\n",
        "plt.bar(range(6) ,mean_ranks )\n"
      ],
      "execution_count": 118,
      "outputs": [
        {
          "output_type": "execute_result",
          "data": {
            "text/plain": [
              "<BarContainer object of 6 artists>"
            ]
          },
          "metadata": {
            "tags": []
          },
          "execution_count": 118
        },
        {
          "output_type": "display_data",
          "data": {
            "image/png": "[encoded data removed]",
            "text/plain": [
              "<Figure size 432x288 with 1 Axes>"
            ]
          },
          "metadata": {
            "tags": []
          }
        }
      ]
    },
    {
      "cell_type": "markdown",
      "metadata": {
        "id": "WVi2KyoOL5Eb",
        "colab_type": "text"
      },
      "source": [
        "We observe that Movie 5 has least mean rank & is highest ranked.As always , early movies in series are generally better made & watched by more number of people."
      ]
    },
    {
      "cell_type": "markdown",
      "metadata": {
        "id": "h91puwLjMdkf",
        "colab_type": "text"
      },
      "source": [
        "## Finding the Most Viewed Movie"
      ]
    },
    {
      "cell_type": "code",
      "metadata": {
        "id": "7YeGgnRvLGGd",
        "colab_type": "code",
        "colab": {}
      },
      "source": [
        "# Lets take sum of seen columns\n",
        "\n",
        "views = star_wars[star_wars.columns[3:9]].sum()"
      ],
      "execution_count": 0,
      "outputs": []
    },
    {
      "cell_type": "code",
      "metadata": {
        "id": "DKg3BDOkMsmT",
        "colab_type": "code",
        "colab": {
          "base_uri": "https://localhost:8080/",
          "height": 136
        },
        "outputId": "2cb9253b-8a3f-4fe7-a3f5-872e24073b77"
      },
      "source": [
        "views"
      ],
      "execution_count": 120,
      "outputs": [
        {
          "output_type": "execute_result",
          "data": {
            "text/plain": [
              "seen_1    673\n",
              "seen_2    571\n",
              "seen_3    550\n",
              "seen_4    607\n",
              "seen_5    758\n",
              "seen_6    738\n",
              "dtype: int64"
            ]
          },
          "metadata": {
            "tags": []
          },
          "execution_count": 120
        }
      ]
    },
    {
      "cell_type": "code",
      "metadata": {
        "id": "Q8q3x276MtVM",
        "colab_type": "code",
        "colab": {
          "base_uri": "https://localhost:8080/",
          "height": 282
        },
        "outputId": "254cba3e-4473-4c49-ee95-f55a0ab59575"
      },
      "source": [
        "plt.bar(range(6) ,views )"
      ],
      "execution_count": 121,
      "outputs": [
        {
          "output_type": "execute_result",
          "data": {
            "text/plain": [
              "<BarContainer object of 6 artists>"
            ]
          },
          "metadata": {
            "tags": []
          },
          "execution_count": 121
        },
        {
          "output_type": "display_data",
          "data": {
            "image/png": "[encoded data removed]",
            "text/plain": [
              "<Figure size 432x288 with 1 Axes>"
            ]
          },
          "metadata": {
            "tags": []
          }
        }
      ]
    },
    {
      "cell_type": "markdown",
      "metadata": {
        "id": "tP-65iuSNnOa",
        "colab_type": "text"
      },
      "source": [
        "Rank & views have good correlation . e.g. Movie 5 as most views and is also ranked highest ."
      ]
    },
    {
      "cell_type": "markdown",
      "metadata": {
        "id": "pVk3z7lyOFw5",
        "colab_type": "text"
      },
      "source": [
        "## Exploring Data by Binary Segments"
      ]
    },
    {
      "cell_type": "code",
      "metadata": {
        "id": "7d98fh8ANhDb",
        "colab_type": "code",
        "colab": {}
      },
      "source": [
        "# Split data by genders\n",
        "males = star_wars[star_wars[\"Gender\"] == \"Male\"]\n",
        "females = star_wars[star_wars[\"Gender\"] == \"Female\"]"
      ],
      "execution_count": 0,
      "outputs": []
    },
    {
      "cell_type": "code",
      "metadata": {
        "id": "rRxaahzdOnda",
        "colab_type": "code",
        "colab": {}
      },
      "source": [
        "mean_ranks_male = males[males.columns[9:15]].mean()\n",
        "mean_ranks_female = females[females.columns[9:15]].mean()"
      ],
      "execution_count": 0,
      "outputs": []
    },
    {
      "cell_type": "code",
      "metadata": {
        "id": "1mknI6psO1oO",
        "colab_type": "code",
        "colab": {
          "base_uri": "https://localhost:8080/",
          "height": 282
        },
        "outputId": "94d242ac-ee2c-49eb-ee4d-d3706fff62e1"
      },
      "source": [
        "# Ranks by Male\n",
        "plt.bar(range(6) ,mean_ranks_male )"
      ],
      "execution_count": 124,
      "outputs": [
        {
          "output_type": "execute_result",
          "data": {
            "text/plain": [
              "<BarContainer object of 6 artists>"
            ]
          },
          "metadata": {
            "tags": []
          },
          "execution_count": 124
        },
        {
          "output_type": "display_data",
          "data": {
            "image/png": "[encoded data removed]",
            "text/plain": [
              "<Figure size 432x288 with 1 Axes>"
            ]
          },
          "metadata": {
            "tags": []
          }
        }
      ]
    },
    {
      "cell_type": "code",
      "metadata": {
        "id": "yz43OFjMO7di",
        "colab_type": "code",
        "colab": {
          "base_uri": "https://localhost:8080/",
          "height": 282
        },
        "outputId": "80a40aa6-c044-4eab-e813-41d68ab4d60f"
      },
      "source": [
        "# Ranks by female\n",
        "plt.bar(range(6) ,mean_ranks_female )"
      ],
      "execution_count": 125,
      "outputs": [
        {
          "output_type": "execute_result",
          "data": {
            "text/plain": [
              "<BarContainer object of 6 artists>"
            ]
          },
          "metadata": {
            "tags": []
          },
          "execution_count": 125
        },
        {
          "output_type": "display_data",
          "data": {
            "image/png": "[encoded data removed]",
            "text/plain": [
              "<Figure size 432x288 with 1 Axes>"
            ]
          },
          "metadata": {
            "tags": []
          }
        }
      ]
    },
    {
      "cell_type": "markdown",
      "metadata": {
        "id": "zaI292ujPRDG",
        "colab_type": "text"
      },
      "source": [
        "Females like movie 1-3 more than males. 5th movie remained on top for both genders."
      ]
    },
    {
      "cell_type": "code",
      "metadata": {
        "id": "l9nWWXiiO-6p",
        "colab_type": "code",
        "colab": {}
      },
      "source": [
        "# views by male , female\n",
        "view_males = males[males.columns[3:9]].sum()\n",
        "view_females = females[females.columns[3:9]].sum()"
      ],
      "execution_count": 0,
      "outputs": []
    },
    {
      "cell_type": "code",
      "metadata": {
        "id": "a9Loyz5pPraS",
        "colab_type": "code",
        "colab": {
          "base_uri": "https://localhost:8080/",
          "height": 282
        },
        "outputId": "7a9690ac-afa3-428c-dc8b-b8f413f057f3"
      },
      "source": [
        "# Views by Males\n",
        "plt.bar(range(6) ,view_males )"
      ],
      "execution_count": 127,
      "outputs": [
        {
          "output_type": "execute_result",
          "data": {
            "text/plain": [
              "<BarContainer object of 6 artists>"
            ]
          },
          "metadata": {
            "tags": []
          },
          "execution_count": 127
        },
        {
          "output_type": "display_data",
          "data": {
            "image/png": "[encoded data removed]",
            "text/plain": [
              "<Figure size 432x288 with 1 Axes>"
            ]
          },
          "metadata": {
            "tags": []
          }
        }
      ]
    },
    {
      "cell_type": "code",
      "metadata": {
        "id": "2tHthBnmPxG7",
        "colab_type": "code",
        "colab": {
          "base_uri": "https://localhost:8080/",
          "height": 282
        },
        "outputId": "e72990a4-db84-4990-815a-e7fae957c452"
      },
      "source": [
        "# Views by Females\n",
        "plt.bar(range(6) ,view_females )"
      ],
      "execution_count": 128,
      "outputs": [
        {
          "output_type": "execute_result",
          "data": {
            "text/plain": [
              "<BarContainer object of 6 artists>"
            ]
          },
          "metadata": {
            "tags": []
          },
          "execution_count": 128
        },
        {
          "output_type": "display_data",
          "data": {
            "image/png": "[encoded data removed]",
            "text/plain": [
              "<Figure size 432x288 with 1 Axes>"
            ]
          },
          "metadata": {
            "tags": []
          }
        }
      ]
    },
    {
      "cell_type": "markdown",
      "metadata": {
        "id": "A4F8wPltP3aC",
        "colab_type": "text"
      },
      "source": [
        "Observation : More males watched movie series then females."
      ]
    },
    {
      "cell_type": "code",
      "metadata": {
        "id": "8-Yvnw9rP0QY",
        "colab_type": "code",
        "colab": {}
      },
      "source": [
        ""
      ],
      "execution_count": 0,
      "outputs": []
    }
  ]
}