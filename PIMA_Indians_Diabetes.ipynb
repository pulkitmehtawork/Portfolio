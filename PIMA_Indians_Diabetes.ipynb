{
  "nbformat": 4,
  "nbformat_minor": 0,
  "metadata": {
    "colab": {
      "name": "PIMA-Indians-Diabetes.ipynb",
      "provenance": [],
      "collapsed_sections": [],
      "include_colab_link": true
    },
    "kernelspec": {
      "name": "python3",
      "display_name": "Python 3"
    },
    "accelerator": "GPU"
  },
  "cells": [
    {
      "cell_type": "markdown",
      "metadata": {
        "id": "view-in-github",
        "colab_type": "text"
      },
      "source": [
        "<a href=\"https://colab.research.google.com/github/pulkitmehtawork/Portfolio/blob/master/PIMA_Indians_Diabetes.ipynb\" target=\"_parent\"><img src=\"https://colab.research.google.com/assets/colab-badge.svg\" alt=\"Open In Colab\"/></a>"
      ]
    },
    {
      "cell_type": "code",
      "metadata": {
        "id": "UTuD-Ui22bgr",
        "colab_type": "code",
        "colab": {
          "base_uri": "https://localhost:8080/",
          "height": 80
        },
        "outputId": "7ed50f30-8077-4969-9bdf-0c9e6a9111f9"
      },
      "source": [
        "# import libraries\n",
        "from numpy import loadtxt\n",
        "from keras.models import Sequential\n",
        "from keras.layers import Dense"
      ],
      "execution_count": 1,
      "outputs": [
        {
          "output_type": "stream",
          "text": [
            "Using TensorFlow backend.\n"
          ],
          "name": "stderr"
        },
        {
          "output_type": "display_data",
          "data": {
            "text/html": [
              "<p style=\"color: red;\">\n",
              "The default version of TensorFlow in Colab will soon switch to TensorFlow 2.x.<br>\n",
              "We recommend you <a href=\"https://www.tensorflow.org/guide/migrate\" target=\"_blank\">upgrade</a> now \n",
              "or ensure your notebook will continue to use TensorFlow 1.x via the <code>%tensorflow_version 1.x</code> magic:\n",
              "<a href=\"https://colab.research.google.com/notebooks/tensorflow_version.ipynb\" target=\"_blank\">more info</a>.</p>\n"
            ],
            "text/plain": [
              "<IPython.core.display.HTML object>"
            ]
          },
          "metadata": {
            "tags": []
          }
        }
      ]
    },
    {
      "cell_type": "code",
      "metadata": {
        "id": "qBv-YPVj3gmP",
        "colab_type": "code",
        "colab": {}
      },
      "source": [
        "# Load Data\n",
        "dataset = loadtxt('/content/pima-indians-diabetes.csv',delimiter = ',')\n",
        "\n",
        "X = dataset[:,0:8]\n",
        "y = dataset[:,8]\n"
      ],
      "execution_count": 0,
      "outputs": []
    },
    {
      "cell_type": "code",
      "metadata": {
        "id": "B3Wc2xeA4ANn",
        "colab_type": "code",
        "colab": {
          "base_uri": "https://localhost:8080/",
          "height": 136
        },
        "outputId": "163d56f3-13a3-41df-dd32-5d3368a4a060"
      },
      "source": [
        "X"
      ],
      "execution_count": 5,
      "outputs": [
        {
          "output_type": "execute_result",
          "data": {
            "text/plain": [
              "array([[  6.   , 148.   ,  72.   , ...,  33.6  ,   0.627,  50.   ],\n",
              "       [  1.   ,  85.   ,  66.   , ...,  26.6  ,   0.351,  31.   ],\n",
              "       [  8.   , 183.   ,  64.   , ...,  23.3  ,   0.672,  32.   ],\n",
              "       ...,\n",
              "       [  5.   , 121.   ,  72.   , ...,  26.2  ,   0.245,  30.   ],\n",
              "       [  1.   , 126.   ,  60.   , ...,  30.1  ,   0.349,  47.   ],\n",
              "       [  1.   ,  93.   ,  70.   , ...,  30.4  ,   0.315,  23.   ]])"
            ]
          },
          "metadata": {
            "tags": []
          },
          "execution_count": 5
        }
      ]
    },
    {
      "cell_type": "code",
      "metadata": {
        "id": "cqfNW3Jl4CTI",
        "colab_type": "code",
        "colab": {}
      },
      "source": [
        "# Define Keras Models\n",
        "\n",
        "model = Sequential()\n",
        "model.add(Dense(12,input_dim = 8,activation = 'relu'))\n",
        "model.add(Dense(8,activation = 'relu'))\n",
        "model.add(Dense(1,activation = 'sigmoid'))"
      ],
      "execution_count": 0,
      "outputs": []
    },
    {
      "cell_type": "code",
      "metadata": {
        "id": "y9Z574Ox6lnA",
        "colab_type": "code",
        "colab": {
          "base_uri": "https://localhost:8080/",
          "height": 156
        },
        "outputId": "f2542fff-d748-4997-80c0-c7c28b118c5c"
      },
      "source": [
        "# Compile the model\n",
        "model.compile(loss='binary_crossentropy',optimizer = 'adam', metrics = ['accuracy'])"
      ],
      "execution_count": 8,
      "outputs": [
        {
          "output_type": "stream",
          "text": [
            "WARNING:tensorflow:From /usr/local/lib/python3.6/dist-packages/keras/optimizers.py:793: The name tf.train.Optimizer is deprecated. Please use tf.compat.v1.train.Optimizer instead.\n",
            "\n",
            "WARNING:tensorflow:From /usr/local/lib/python3.6/dist-packages/keras/backend/tensorflow_backend.py:3657: The name tf.log is deprecated. Please use tf.math.log instead.\n",
            "\n",
            "WARNING:tensorflow:From /usr/local/lib/python3.6/dist-packages/tensorflow_core/python/ops/nn_impl.py:183: where (from tensorflow.python.ops.array_ops) is deprecated and will be removed in a future version.\n",
            "Instructions for updating:\n",
            "Use tf.where in 2.0, which has the same broadcast rule as np.where\n"
          ],
          "name": "stdout"
        }
      ]
    },
    {
      "cell_type": "code",
      "metadata": {
        "id": "BLhG6JBX8Bd3",
        "colab_type": "code",
        "colab": {
          "base_uri": "https://localhost:8080/",
          "height": 1000
        },
        "outputId": "19496282-a025-4711-96a9-25501b9151bb"
      },
      "source": [
        "# Fit keras model on the dataset\n",
        "\n",
        "model.fit(X,y,epochs=200,batch_size = 10)"
      ],
      "execution_count": 23,
      "outputs": [
        {
          "output_type": "stream",
          "text": [
            "Epoch 1/200\n",
            "768/768 [==============================] - 0s 340us/step - loss: 0.4688 - acc: 0.7565\n",
            "Epoch 2/200\n",
            "768/768 [==============================] - 0s 302us/step - loss: 0.4705 - acc: 0.7669\n",
            "Epoch 3/200\n",
            "768/768 [==============================] - 0s 300us/step - loss: 0.4699 - acc: 0.7721\n",
            "Epoch 4/200\n",
            "768/768 [==============================] - 0s 296us/step - loss: 0.4547 - acc: 0.7878\n",
            "Epoch 5/200\n",
            "768/768 [==============================] - 0s 294us/step - loss: 0.4570 - acc: 0.7669\n",
            "Epoch 6/200\n",
            "768/768 [==============================] - 0s 304us/step - loss: 0.4565 - acc: 0.7826\n",
            "Epoch 7/200\n",
            "768/768 [==============================] - 0s 289us/step - loss: 0.4636 - acc: 0.7708\n",
            "Epoch 8/200\n",
            "768/768 [==============================] - 0s 283us/step - loss: 0.4576 - acc: 0.7773\n",
            "Epoch 9/200\n",
            "768/768 [==============================] - 0s 284us/step - loss: 0.4709 - acc: 0.7747\n",
            "Epoch 10/200\n",
            "768/768 [==============================] - 0s 303us/step - loss: 0.4611 - acc: 0.7747\n",
            "Epoch 11/200\n",
            "768/768 [==============================] - 0s 282us/step - loss: 0.4532 - acc: 0.7695\n",
            "Epoch 12/200\n",
            "768/768 [==============================] - 0s 287us/step - loss: 0.4591 - acc: 0.7708\n",
            "Epoch 13/200\n",
            "768/768 [==============================] - 0s 294us/step - loss: 0.4587 - acc: 0.7852\n",
            "Epoch 14/200\n",
            "768/768 [==============================] - 0s 306us/step - loss: 0.4546 - acc: 0.7799\n",
            "Epoch 15/200\n",
            "768/768 [==============================] - 0s 305us/step - loss: 0.4683 - acc: 0.7617\n",
            "Epoch 16/200\n",
            "768/768 [==============================] - 0s 294us/step - loss: 0.4576 - acc: 0.7721\n",
            "Epoch 17/200\n",
            "768/768 [==============================] - 0s 334us/step - loss: 0.4634 - acc: 0.7630\n",
            "Epoch 18/200\n",
            "768/768 [==============================] - 0s 294us/step - loss: 0.4559 - acc: 0.7839\n",
            "Epoch 19/200\n",
            "768/768 [==============================] - 0s 312us/step - loss: 0.4989 - acc: 0.7565\n",
            "Epoch 20/200\n",
            "768/768 [==============================] - 0s 307us/step - loss: 0.4579 - acc: 0.7786\n",
            "Epoch 21/200\n",
            "768/768 [==============================] - 0s 306us/step - loss: 0.4532 - acc: 0.7852\n",
            "Epoch 22/200\n",
            "768/768 [==============================] - 0s 301us/step - loss: 0.4568 - acc: 0.7747\n",
            "Epoch 23/200\n",
            "768/768 [==============================] - 0s 298us/step - loss: 0.4614 - acc: 0.7734\n",
            "Epoch 24/200\n",
            "768/768 [==============================] - 0s 293us/step - loss: 0.4656 - acc: 0.7747\n",
            "Epoch 25/200\n",
            "768/768 [==============================] - 0s 301us/step - loss: 0.4566 - acc: 0.7904\n",
            "Epoch 26/200\n",
            "768/768 [==============================] - 0s 293us/step - loss: 0.4588 - acc: 0.7786\n",
            "Epoch 27/200\n",
            "768/768 [==============================] - 0s 298us/step - loss: 0.4664 - acc: 0.7565\n",
            "Epoch 28/200\n",
            "768/768 [==============================] - 0s 314us/step - loss: 0.4661 - acc: 0.7747\n",
            "Epoch 29/200\n",
            "768/768 [==============================] - 0s 287us/step - loss: 0.4575 - acc: 0.7773\n",
            "Epoch 30/200\n",
            "768/768 [==============================] - 0s 309us/step - loss: 0.4524 - acc: 0.7695\n",
            "Epoch 31/200\n",
            "768/768 [==============================] - 0s 300us/step - loss: 0.4566 - acc: 0.7799\n",
            "Epoch 32/200\n",
            "768/768 [==============================] - 0s 306us/step - loss: 0.4535 - acc: 0.7891\n",
            "Epoch 33/200\n",
            "768/768 [==============================] - 0s 282us/step - loss: 0.4624 - acc: 0.7786\n",
            "Epoch 34/200\n",
            "768/768 [==============================] - 0s 307us/step - loss: 0.4660 - acc: 0.7617\n",
            "Epoch 35/200\n",
            "768/768 [==============================] - 0s 303us/step - loss: 0.4503 - acc: 0.7786\n",
            "Epoch 36/200\n",
            "768/768 [==============================] - 0s 301us/step - loss: 0.4726 - acc: 0.7891\n",
            "Epoch 37/200\n",
            "768/768 [==============================] - 0s 305us/step - loss: 0.4625 - acc: 0.7786\n",
            "Epoch 38/200\n",
            "768/768 [==============================] - 0s 313us/step - loss: 0.4570 - acc: 0.7721\n",
            "Epoch 39/200\n",
            "768/768 [==============================] - 0s 306us/step - loss: 0.4500 - acc: 0.7786\n",
            "Epoch 40/200\n",
            "768/768 [==============================] - 0s 315us/step - loss: 0.4589 - acc: 0.7786\n",
            "Epoch 41/200\n",
            "768/768 [==============================] - 0s 325us/step - loss: 0.4570 - acc: 0.7734\n",
            "Epoch 42/200\n",
            "768/768 [==============================] - 0s 293us/step - loss: 0.4606 - acc: 0.7721\n",
            "Epoch 43/200\n",
            "768/768 [==============================] - 0s 296us/step - loss: 0.4536 - acc: 0.7721\n",
            "Epoch 44/200\n",
            "768/768 [==============================] - 0s 308us/step - loss: 0.4563 - acc: 0.7760\n",
            "Epoch 45/200\n",
            "768/768 [==============================] - 0s 301us/step - loss: 0.4561 - acc: 0.7656\n",
            "Epoch 46/200\n",
            "768/768 [==============================] - 0s 308us/step - loss: 0.4475 - acc: 0.7760\n",
            "Epoch 47/200\n",
            "768/768 [==============================] - 0s 320us/step - loss: 0.4486 - acc: 0.7865\n",
            "Epoch 48/200\n",
            "768/768 [==============================] - 0s 312us/step - loss: 0.4556 - acc: 0.7656\n",
            "Epoch 49/200\n",
            "768/768 [==============================] - 0s 288us/step - loss: 0.4505 - acc: 0.7721\n",
            "Epoch 50/200\n",
            "768/768 [==============================] - 0s 301us/step - loss: 0.4700 - acc: 0.7708\n",
            "Epoch 51/200\n",
            "768/768 [==============================] - 0s 282us/step - loss: 0.4555 - acc: 0.7747\n",
            "Epoch 52/200\n",
            "768/768 [==============================] - 0s 319us/step - loss: 0.4644 - acc: 0.7552\n",
            "Epoch 53/200\n",
            "768/768 [==============================] - 0s 287us/step - loss: 0.4564 - acc: 0.7773\n",
            "Epoch 54/200\n",
            "768/768 [==============================] - 0s 299us/step - loss: 0.4590 - acc: 0.7799\n",
            "Epoch 55/200\n",
            "768/768 [==============================] - 0s 297us/step - loss: 0.4563 - acc: 0.7643\n",
            "Epoch 56/200\n",
            "768/768 [==============================] - 0s 297us/step - loss: 0.4437 - acc: 0.7786\n",
            "Epoch 57/200\n",
            "768/768 [==============================] - 0s 316us/step - loss: 0.4580 - acc: 0.7656\n",
            "Epoch 58/200\n",
            "768/768 [==============================] - 0s 326us/step - loss: 0.4504 - acc: 0.7747\n",
            "Epoch 59/200\n",
            "768/768 [==============================] - 0s 291us/step - loss: 0.4467 - acc: 0.7826\n",
            "Epoch 60/200\n",
            "768/768 [==============================] - 0s 302us/step - loss: 0.4643 - acc: 0.7708\n",
            "Epoch 61/200\n",
            "768/768 [==============================] - 0s 287us/step - loss: 0.4826 - acc: 0.7526\n",
            "Epoch 62/200\n",
            "768/768 [==============================] - 0s 291us/step - loss: 0.4465 - acc: 0.7799\n",
            "Epoch 63/200\n",
            "768/768 [==============================] - 0s 290us/step - loss: 0.4511 - acc: 0.7721\n",
            "Epoch 64/200\n",
            "768/768 [==============================] - 0s 303us/step - loss: 0.4500 - acc: 0.7812\n",
            "Epoch 65/200\n",
            "768/768 [==============================] - 0s 288us/step - loss: 0.4688 - acc: 0.7682\n",
            "Epoch 66/200\n",
            "768/768 [==============================] - 0s 297us/step - loss: 0.4616 - acc: 0.7760\n",
            "Epoch 67/200\n",
            "768/768 [==============================] - 0s 306us/step - loss: 0.4513 - acc: 0.7760\n",
            "Epoch 68/200\n",
            "768/768 [==============================] - 0s 290us/step - loss: 0.4698 - acc: 0.7578\n",
            "Epoch 69/200\n",
            "768/768 [==============================] - 0s 289us/step - loss: 0.4425 - acc: 0.7904\n",
            "Epoch 70/200\n",
            "768/768 [==============================] - 0s 290us/step - loss: 0.4466 - acc: 0.7839\n",
            "Epoch 71/200\n",
            "768/768 [==============================] - 0s 302us/step - loss: 0.4493 - acc: 0.7747\n",
            "Epoch 72/200\n",
            "768/768 [==============================] - 0s 309us/step - loss: 0.4475 - acc: 0.7695\n",
            "Epoch 73/200\n",
            "768/768 [==============================] - 0s 274us/step - loss: 0.4449 - acc: 0.7878\n",
            "Epoch 74/200\n",
            "768/768 [==============================] - 0s 281us/step - loss: 0.4583 - acc: 0.7721\n",
            "Epoch 75/200\n",
            "768/768 [==============================] - 0s 292us/step - loss: 0.4491 - acc: 0.7852\n",
            "Epoch 76/200\n",
            "768/768 [==============================] - 0s 300us/step - loss: 0.4514 - acc: 0.7760\n",
            "Epoch 77/200\n",
            "768/768 [==============================] - 0s 294us/step - loss: 0.4501 - acc: 0.7656\n",
            "Epoch 78/200\n",
            "768/768 [==============================] - 0s 286us/step - loss: 0.4537 - acc: 0.7708\n",
            "Epoch 79/200\n",
            "768/768 [==============================] - 0s 292us/step - loss: 0.4681 - acc: 0.7760\n",
            "Epoch 80/200\n",
            "768/768 [==============================] - 0s 306us/step - loss: 0.4587 - acc: 0.7773\n",
            "Epoch 81/200\n",
            "768/768 [==============================] - 0s 307us/step - loss: 0.4524 - acc: 0.7682\n",
            "Epoch 82/200\n",
            "768/768 [==============================] - 0s 283us/step - loss: 0.4567 - acc: 0.7643\n",
            "Epoch 83/200\n",
            "768/768 [==============================] - 0s 307us/step - loss: 0.4513 - acc: 0.7708\n",
            "Epoch 84/200\n",
            "768/768 [==============================] - 0s 288us/step - loss: 0.4670 - acc: 0.7721\n",
            "Epoch 85/200\n",
            "768/768 [==============================] - 0s 329us/step - loss: 0.4513 - acc: 0.7799\n",
            "Epoch 86/200\n",
            "768/768 [==============================] - 0s 289us/step - loss: 0.4509 - acc: 0.7760\n",
            "Epoch 87/200\n",
            "768/768 [==============================] - 0s 269us/step - loss: 0.4493 - acc: 0.7852\n",
            "Epoch 88/200\n",
            "768/768 [==============================] - 0s 292us/step - loss: 0.4491 - acc: 0.7917\n",
            "Epoch 89/200\n",
            "768/768 [==============================] - 0s 289us/step - loss: 0.4457 - acc: 0.7930\n",
            "Epoch 90/200\n",
            "768/768 [==============================] - 0s 298us/step - loss: 0.4515 - acc: 0.7786\n",
            "Epoch 91/200\n",
            "768/768 [==============================] - 0s 283us/step - loss: 0.4514 - acc: 0.7669\n",
            "Epoch 92/200\n",
            "768/768 [==============================] - 0s 294us/step - loss: 0.4533 - acc: 0.7760\n",
            "Epoch 93/200\n",
            "768/768 [==============================] - 0s 286us/step - loss: 0.4503 - acc: 0.7799\n",
            "Epoch 94/200\n",
            "768/768 [==============================] - 0s 333us/step - loss: 0.4436 - acc: 0.7773\n",
            "Epoch 95/200\n",
            "768/768 [==============================] - 0s 291us/step - loss: 0.4418 - acc: 0.7852\n",
            "Epoch 96/200\n",
            "768/768 [==============================] - 0s 278us/step - loss: 0.4523 - acc: 0.7812\n",
            "Epoch 97/200\n",
            "768/768 [==============================] - 0s 272us/step - loss: 0.4580 - acc: 0.7630\n",
            "Epoch 98/200\n",
            "768/768 [==============================] - 0s 281us/step - loss: 0.4439 - acc: 0.7812\n",
            "Epoch 99/200\n",
            "768/768 [==============================] - 0s 305us/step - loss: 0.4480 - acc: 0.7826\n",
            "Epoch 100/200\n",
            "768/768 [==============================] - 0s 307us/step - loss: 0.4545 - acc: 0.7812\n",
            "Epoch 101/200\n",
            "768/768 [==============================] - 0s 283us/step - loss: 0.4658 - acc: 0.7708\n",
            "Epoch 102/200\n",
            "768/768 [==============================] - 0s 270us/step - loss: 0.4474 - acc: 0.7865\n",
            "Epoch 103/200\n",
            "768/768 [==============================] - 0s 287us/step - loss: 0.4515 - acc: 0.7773\n",
            "Epoch 104/200\n",
            "768/768 [==============================] - 0s 292us/step - loss: 0.4397 - acc: 0.7682\n",
            "Epoch 105/200\n",
            "768/768 [==============================] - 0s 287us/step - loss: 0.4481 - acc: 0.7826\n",
            "Epoch 106/200\n",
            "768/768 [==============================] - 0s 295us/step - loss: 0.4418 - acc: 0.7826\n",
            "Epoch 107/200\n",
            "768/768 [==============================] - 0s 303us/step - loss: 0.4414 - acc: 0.7969\n",
            "Epoch 108/200\n",
            "768/768 [==============================] - 0s 322us/step - loss: 0.4434 - acc: 0.7878\n",
            "Epoch 109/200\n",
            "768/768 [==============================] - 0s 297us/step - loss: 0.4525 - acc: 0.7773\n",
            "Epoch 110/200\n",
            "768/768 [==============================] - 0s 312us/step - loss: 0.4571 - acc: 0.7799\n",
            "Epoch 111/200\n",
            "768/768 [==============================] - 0s 279us/step - loss: 0.4406 - acc: 0.7891\n",
            "Epoch 112/200\n",
            "768/768 [==============================] - 0s 284us/step - loss: 0.4511 - acc: 0.7799\n",
            "Epoch 113/200\n",
            "768/768 [==============================] - 0s 295us/step - loss: 0.4488 - acc: 0.7773\n",
            "Epoch 114/200\n",
            "768/768 [==============================] - 0s 292us/step - loss: 0.4458 - acc: 0.7891\n",
            "Epoch 115/200\n",
            "768/768 [==============================] - 0s 287us/step - loss: 0.4563 - acc: 0.7708\n",
            "Epoch 116/200\n",
            "768/768 [==============================] - 0s 283us/step - loss: 0.4499 - acc: 0.7604\n",
            "Epoch 117/200\n",
            "768/768 [==============================] - 0s 299us/step - loss: 0.4440 - acc: 0.7721\n",
            "Epoch 118/200\n",
            "768/768 [==============================] - 0s 291us/step - loss: 0.4485 - acc: 0.7943\n",
            "Epoch 119/200\n",
            "768/768 [==============================] - 0s 309us/step - loss: 0.4473 - acc: 0.7839\n",
            "Epoch 120/200\n",
            "768/768 [==============================] - 0s 290us/step - loss: 0.4498 - acc: 0.7786\n",
            "Epoch 121/200\n",
            "768/768 [==============================] - 0s 282us/step - loss: 0.4393 - acc: 0.7773\n",
            "Epoch 122/200\n",
            "768/768 [==============================] - 0s 300us/step - loss: 0.4625 - acc: 0.7643\n",
            "Epoch 123/200\n",
            "768/768 [==============================] - 0s 288us/step - loss: 0.4569 - acc: 0.7904\n",
            "Epoch 124/200\n",
            "768/768 [==============================] - 0s 279us/step - loss: 0.4425 - acc: 0.7734\n",
            "Epoch 125/200\n",
            "768/768 [==============================] - 0s 290us/step - loss: 0.4729 - acc: 0.7721\n",
            "Epoch 126/200\n",
            "768/768 [==============================] - 0s 284us/step - loss: 0.4559 - acc: 0.7734\n",
            "Epoch 127/200\n",
            "768/768 [==============================] - 0s 302us/step - loss: 0.4477 - acc: 0.7852\n",
            "Epoch 128/200\n",
            "768/768 [==============================] - 0s 289us/step - loss: 0.4486 - acc: 0.7773\n",
            "Epoch 129/200\n",
            "768/768 [==============================] - 0s 284us/step - loss: 0.4594 - acc: 0.7747\n",
            "Epoch 130/200\n",
            "768/768 [==============================] - 0s 298us/step - loss: 0.4470 - acc: 0.7904\n",
            "Epoch 131/200\n",
            "768/768 [==============================] - 0s 307us/step - loss: 0.4589 - acc: 0.7773\n",
            "Epoch 132/200\n",
            "768/768 [==============================] - 0s 294us/step - loss: 0.4440 - acc: 0.7799\n",
            "Epoch 133/200\n",
            "768/768 [==============================] - 0s 304us/step - loss: 0.4533 - acc: 0.7891\n",
            "Epoch 134/200\n",
            "768/768 [==============================] - 0s 310us/step - loss: 0.4495 - acc: 0.7799\n",
            "Epoch 135/200\n",
            "768/768 [==============================] - 0s 299us/step - loss: 0.4496 - acc: 0.7812\n",
            "Epoch 136/200\n",
            "768/768 [==============================] - 0s 286us/step - loss: 0.4492 - acc: 0.7826\n",
            "Epoch 137/200\n",
            "768/768 [==============================] - 0s 294us/step - loss: 0.4460 - acc: 0.7721\n",
            "Epoch 138/200\n",
            "768/768 [==============================] - 0s 285us/step - loss: 0.4474 - acc: 0.7773\n",
            "Epoch 139/200\n",
            "768/768 [==============================] - 0s 281us/step - loss: 0.4564 - acc: 0.7734\n",
            "Epoch 140/200\n",
            "768/768 [==============================] - 0s 335us/step - loss: 0.4525 - acc: 0.7812\n",
            "Epoch 141/200\n",
            "768/768 [==============================] - 0s 285us/step - loss: 0.4454 - acc: 0.7917\n",
            "Epoch 142/200\n",
            "768/768 [==============================] - 0s 274us/step - loss: 0.4539 - acc: 0.7760\n",
            "Epoch 143/200\n",
            "768/768 [==============================] - 0s 285us/step - loss: 0.4539 - acc: 0.7826\n",
            "Epoch 144/200\n",
            "768/768 [==============================] - 0s 308us/step - loss: 0.4520 - acc: 0.7865\n",
            "Epoch 145/200\n",
            "768/768 [==============================] - 0s 282us/step - loss: 0.4422 - acc: 0.7969\n",
            "Epoch 146/200\n",
            "768/768 [==============================] - 0s 291us/step - loss: 0.4437 - acc: 0.7917\n",
            "Epoch 147/200\n",
            "768/768 [==============================] - 0s 287us/step - loss: 0.4524 - acc: 0.7708\n",
            "Epoch 148/200\n",
            "768/768 [==============================] - 0s 289us/step - loss: 0.4463 - acc: 0.7865\n",
            "Epoch 149/200\n",
            "768/768 [==============================] - 0s 297us/step - loss: 0.4492 - acc: 0.7734\n",
            "Epoch 150/200\n",
            "768/768 [==============================] - 0s 291us/step - loss: 0.4562 - acc: 0.7852\n",
            "Epoch 151/200\n",
            "768/768 [==============================] - 0s 293us/step - loss: 0.4466 - acc: 0.7760\n",
            "Epoch 152/200\n",
            "768/768 [==============================] - 0s 291us/step - loss: 0.4435 - acc: 0.7865\n",
            "Epoch 153/200\n",
            "768/768 [==============================] - 0s 325us/step - loss: 0.4477 - acc: 0.7826\n",
            "Epoch 154/200\n",
            "768/768 [==============================] - 0s 292us/step - loss: 0.4512 - acc: 0.7773\n",
            "Epoch 155/200\n",
            "768/768 [==============================] - 0s 302us/step - loss: 0.4569 - acc: 0.7734\n",
            "Epoch 156/200\n",
            "768/768 [==============================] - 0s 306us/step - loss: 0.4404 - acc: 0.7786\n",
            "Epoch 157/200\n",
            "768/768 [==============================] - 0s 292us/step - loss: 0.4411 - acc: 0.7839\n",
            "Epoch 158/200\n",
            "768/768 [==============================] - 0s 317us/step - loss: 0.4344 - acc: 0.7852\n",
            "Epoch 159/200\n",
            "768/768 [==============================] - 0s 296us/step - loss: 0.4453 - acc: 0.7891\n",
            "Epoch 160/200\n",
            "768/768 [==============================] - 0s 290us/step - loss: 0.4482 - acc: 0.7930\n",
            "Epoch 161/200\n",
            "768/768 [==============================] - 0s 274us/step - loss: 0.4556 - acc: 0.7852\n",
            "Epoch 162/200\n",
            "768/768 [==============================] - 0s 295us/step - loss: 0.4376 - acc: 0.7826\n",
            "Epoch 163/200\n",
            "768/768 [==============================] - 0s 288us/step - loss: 0.4683 - acc: 0.7708\n",
            "Epoch 164/200\n",
            "768/768 [==============================] - 0s 300us/step - loss: 0.4371 - acc: 0.7917\n",
            "Epoch 165/200\n",
            "768/768 [==============================] - 0s 296us/step - loss: 0.4461 - acc: 0.7760\n",
            "Epoch 166/200\n",
            "768/768 [==============================] - 0s 296us/step - loss: 0.4688 - acc: 0.7604\n",
            "Epoch 167/200\n",
            "768/768 [==============================] - 0s 292us/step - loss: 0.4466 - acc: 0.7734\n",
            "Epoch 168/200\n",
            "768/768 [==============================] - 0s 287us/step - loss: 0.4501 - acc: 0.7786\n",
            "Epoch 169/200\n",
            "768/768 [==============================] - 0s 299us/step - loss: 0.4396 - acc: 0.7826\n",
            "Epoch 170/200\n",
            "768/768 [==============================] - 0s 300us/step - loss: 0.4577 - acc: 0.7852\n",
            "Epoch 171/200\n",
            "768/768 [==============================] - 0s 304us/step - loss: 0.4431 - acc: 0.7839\n",
            "Epoch 172/200\n",
            "768/768 [==============================] - 0s 289us/step - loss: 0.4530 - acc: 0.7695\n",
            "Epoch 173/200\n",
            "768/768 [==============================] - 0s 283us/step - loss: 0.4444 - acc: 0.7839\n",
            "Epoch 174/200\n",
            "768/768 [==============================] - 0s 298us/step - loss: 0.4443 - acc: 0.7773\n",
            "Epoch 175/200\n",
            "768/768 [==============================] - 0s 306us/step - loss: 0.4373 - acc: 0.7878\n",
            "Epoch 176/200\n",
            "768/768 [==============================] - 0s 307us/step - loss: 0.4433 - acc: 0.7826\n",
            "Epoch 177/200\n",
            "768/768 [==============================] - 0s 304us/step - loss: 0.4494 - acc: 0.7826\n",
            "Epoch 178/200\n",
            "768/768 [==============================] - 0s 288us/step - loss: 0.4444 - acc: 0.7839\n",
            "Epoch 179/200\n",
            "768/768 [==============================] - 0s 285us/step - loss: 0.4532 - acc: 0.7826\n",
            "Epoch 180/200\n",
            "768/768 [==============================] - 0s 290us/step - loss: 0.4430 - acc: 0.7865\n",
            "Epoch 181/200\n",
            "768/768 [==============================] - 0s 278us/step - loss: 0.4471 - acc: 0.7760\n",
            "Epoch 182/200\n",
            "768/768 [==============================] - 0s 283us/step - loss: 0.4436 - acc: 0.7891\n",
            "Epoch 183/200\n",
            "768/768 [==============================] - 0s 291us/step - loss: 0.4602 - acc: 0.7682\n",
            "Epoch 184/200\n",
            "768/768 [==============================] - 0s 271us/step - loss: 0.4625 - acc: 0.7786\n",
            "Epoch 185/200\n",
            "768/768 [==============================] - 0s 295us/step - loss: 0.4428 - acc: 0.7995\n",
            "Epoch 186/200\n",
            "768/768 [==============================] - 0s 299us/step - loss: 0.4401 - acc: 0.7943\n",
            "Epoch 187/200\n",
            "768/768 [==============================] - 0s 284us/step - loss: 0.4443 - acc: 0.7839\n",
            "Epoch 188/200\n",
            "768/768 [==============================] - 0s 294us/step - loss: 0.4409 - acc: 0.7786\n",
            "Epoch 189/200\n",
            "768/768 [==============================] - 0s 291us/step - loss: 0.4417 - acc: 0.7943\n",
            "Epoch 190/200\n",
            "768/768 [==============================] - 0s 285us/step - loss: 0.4500 - acc: 0.7839\n",
            "Epoch 191/200\n",
            "768/768 [==============================] - 0s 314us/step - loss: 0.4461 - acc: 0.7865\n",
            "Epoch 192/200\n",
            "768/768 [==============================] - 0s 328us/step - loss: 0.4401 - acc: 0.7760\n",
            "Epoch 193/200\n",
            "768/768 [==============================] - 0s 305us/step - loss: 0.4612 - acc: 0.7760\n",
            "Epoch 194/200\n",
            "768/768 [==============================] - 0s 300us/step - loss: 0.4393 - acc: 0.7839\n",
            "Epoch 195/200\n",
            "768/768 [==============================] - 0s 290us/step - loss: 0.4402 - acc: 0.7812\n",
            "Epoch 196/200\n",
            "768/768 [==============================] - 0s 310us/step - loss: 0.4398 - acc: 0.7812\n",
            "Epoch 197/200\n",
            "768/768 [==============================] - 0s 300us/step - loss: 0.4438 - acc: 0.7956\n",
            "Epoch 198/200\n",
            "768/768 [==============================] - 0s 319us/step - loss: 0.4475 - acc: 0.7839\n",
            "Epoch 199/200\n",
            "768/768 [==============================] - 0s 279us/step - loss: 0.4524 - acc: 0.7773\n",
            "Epoch 200/200\n",
            "768/768 [==============================] - 0s 278us/step - loss: 0.4388 - acc: 0.7826\n"
          ],
          "name": "stdout"
        },
        {
          "output_type": "execute_result",
          "data": {
            "text/plain": [
              "<keras.callbacks.History at 0x7fc02cdd25c0>"
            ]
          },
          "metadata": {
            "tags": []
          },
          "execution_count": 23
        }
      ]
    },
    {
      "cell_type": "code",
      "metadata": {
        "id": "ahfMBkmf9lnR",
        "colab_type": "code",
        "colab": {
          "base_uri": "https://localhost:8080/",
          "height": 34
        },
        "outputId": "5e5c2dc7-faff-48db-bb59-f9fbb2cd7c5e"
      },
      "source": [
        "# evaluate keras models\n",
        "\n",
        "_,accuracy = model.evaluate(X,y)"
      ],
      "execution_count": 24,
      "outputs": [
        {
          "output_type": "stream",
          "text": [
            "768/768 [==============================] - 0s 50us/step\n"
          ],
          "name": "stdout"
        }
      ]
    },
    {
      "cell_type": "code",
      "metadata": {
        "id": "Oh8j6iU3-oFa",
        "colab_type": "code",
        "colab": {
          "base_uri": "https://localhost:8080/",
          "height": 34
        },
        "outputId": "fdf6972e-b7f8-4484-d012-1149efad44f8"
      },
      "source": [
        "print('Accuracy : %.2f' %(accuracy*100))"
      ],
      "execution_count": 25,
      "outputs": [
        {
          "output_type": "stream",
          "text": [
            "Accuracy : 76.69\n"
          ],
          "name": "stdout"
        }
      ]
    },
    {
      "cell_type": "code",
      "metadata": {
        "id": "cnjDe05V-2Cp",
        "colab_type": "code",
        "colab": {}
      },
      "source": [
        ""
      ],
      "execution_count": 0,
      "outputs": []
    }
  ]
}